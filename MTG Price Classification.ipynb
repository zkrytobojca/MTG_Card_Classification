{
 "cells": [
  {
   "cell_type": "code",
   "execution_count": 1,
   "id": "38256c36",
   "metadata": {},
   "outputs": [],
   "source": [
    "# importing necessary libraries\n",
    "import pandas as pd\n",
    "import numpy as np\n",
    "import random\n",
    "from sklearn import metrics\n",
    "import seaborn as sea\n",
    "import pickle"
   ]
  },
  {
   "cell_type": "markdown",
   "id": "7b9deb1f",
   "metadata": {},
   "source": [
    "# -------------------- PARAMETERS --------------------"
   ]
  },
  {
   "cell_type": "code",
   "execution_count": 2,
   "id": "2d861bcc",
   "metadata": {},
   "outputs": [],
   "source": [
    "# name of the file with dataset\n",
    "filename = 'mtg_dataset_02_2023'"
   ]
  },
  {
   "cell_type": "code",
   "execution_count": 3,
   "id": "6352be19",
   "metadata": {},
   "outputs": [],
   "source": [
    "# importing dataset from the .cvs file with chosen name\n",
    "df = pd.read_csv('Datasets\\\\' + filename + '.csv', sep=';')"
   ]
  },
  {
   "cell_type": "code",
   "execution_count": 4,
   "id": "b19a455d",
   "metadata": {},
   "outputs": [],
   "source": [
    "# name of the folder where trained models are imported from\n",
    "import_folder = 'Models\\\\'"
   ]
  },
  {
   "cell_type": "code",
   "execution_count": 5,
   "id": "ea8ff714",
   "metadata": {},
   "outputs": [],
   "source": [
    "# which columns are treated as numeric\n",
    "numerics = ['int16', 'int32', 'int64', 'float16', 'float32', 'float64']"
   ]
  },
  {
   "cell_type": "code",
   "execution_count": 6,
   "id": "feac4400",
   "metadata": {},
   "outputs": [],
   "source": [
    "# columns to exclude\n",
    "columns_to_exclude = ['name','set']\n",
    "price_excludes = ['price']"
   ]
  },
  {
   "cell_type": "code",
   "execution_count": 7,
   "id": "65ded72a",
   "metadata": {},
   "outputs": [],
   "source": [
    "# paramenters of random number generator\n",
    "random_state = 0\n",
    "random.seed(random_state)"
   ]
  },
  {
   "cell_type": "markdown",
   "id": "c25d6008",
   "metadata": {},
   "source": [
    "# --------------------------- DATA ---------------------------"
   ]
  },
  {
   "cell_type": "code",
   "execution_count": 8,
   "id": "b6702c85",
   "metadata": {},
   "outputs": [
    {
     "data": {
      "text/html": [
       "<div>\n",
       "<style scoped>\n",
       "    .dataframe tbody tr th:only-of-type {\n",
       "        vertical-align: middle;\n",
       "    }\n",
       "\n",
       "    .dataframe tbody tr th {\n",
       "        vertical-align: top;\n",
       "    }\n",
       "\n",
       "    .dataframe thead th {\n",
       "        text-align: right;\n",
       "    }\n",
       "</style>\n",
       "<table border=\"1\" class=\"dataframe\">\n",
       "  <thead>\n",
       "    <tr style=\"text-align: right;\">\n",
       "      <th></th>\n",
       "      <th>name</th>\n",
       "      <th>set</th>\n",
       "      <th>dfc</th>\n",
       "      <th>prints</th>\n",
       "      <th>layout</th>\n",
       "      <th>flavor_text</th>\n",
       "      <th>type_creature</th>\n",
       "      <th>type_artifact</th>\n",
       "      <th>type_enchantment</th>\n",
       "      <th>type_planeswalker</th>\n",
       "      <th>...</th>\n",
       "      <th>custom_cheatinto_play</th>\n",
       "      <th>custom_ritual</th>\n",
       "      <th>custom_no_maximum</th>\n",
       "      <th>custom_wheel</th>\n",
       "      <th>custom_extra_combat</th>\n",
       "      <th>custom_pillow_fort</th>\n",
       "      <th>custom_land_destruction</th>\n",
       "      <th>custom_win_game</th>\n",
       "      <th>custom_lose_game</th>\n",
       "      <th>custom_poison</th>\n",
       "    </tr>\n",
       "  </thead>\n",
       "  <tbody>\n",
       "    <tr>\n",
       "      <th>0</th>\n",
       "      <td>Fury Sliver</td>\n",
       "      <td>tsp</td>\n",
       "      <td>0.0</td>\n",
       "      <td>3</td>\n",
       "      <td>normal</td>\n",
       "      <td>1.0</td>\n",
       "      <td>1.0</td>\n",
       "      <td>0.0</td>\n",
       "      <td>0.0</td>\n",
       "      <td>0.0</td>\n",
       "      <td>...</td>\n",
       "      <td>0.0</td>\n",
       "      <td>0.0</td>\n",
       "      <td>0.0</td>\n",
       "      <td>0.0</td>\n",
       "      <td>0.0</td>\n",
       "      <td>0.0</td>\n",
       "      <td>0.0</td>\n",
       "      <td>0.0</td>\n",
       "      <td>0.0</td>\n",
       "      <td>0.0</td>\n",
       "    </tr>\n",
       "    <tr>\n",
       "      <th>1</th>\n",
       "      <td>Kor Outfitter</td>\n",
       "      <td>zen</td>\n",
       "      <td>0.0</td>\n",
       "      <td>2</td>\n",
       "      <td>normal</td>\n",
       "      <td>1.0</td>\n",
       "      <td>1.0</td>\n",
       "      <td>0.0</td>\n",
       "      <td>0.0</td>\n",
       "      <td>0.0</td>\n",
       "      <td>...</td>\n",
       "      <td>0.0</td>\n",
       "      <td>0.0</td>\n",
       "      <td>0.0</td>\n",
       "      <td>0.0</td>\n",
       "      <td>0.0</td>\n",
       "      <td>0.0</td>\n",
       "      <td>0.0</td>\n",
       "      <td>0.0</td>\n",
       "      <td>0.0</td>\n",
       "      <td>0.0</td>\n",
       "    </tr>\n",
       "    <tr>\n",
       "      <th>2</th>\n",
       "      <td>Siren Lookout</td>\n",
       "      <td>xln</td>\n",
       "      <td>0.0</td>\n",
       "      <td>1</td>\n",
       "      <td>normal</td>\n",
       "      <td>0.0</td>\n",
       "      <td>1.0</td>\n",
       "      <td>0.0</td>\n",
       "      <td>0.0</td>\n",
       "      <td>0.0</td>\n",
       "      <td>...</td>\n",
       "      <td>0.0</td>\n",
       "      <td>0.0</td>\n",
       "      <td>0.0</td>\n",
       "      <td>0.0</td>\n",
       "      <td>0.0</td>\n",
       "      <td>0.0</td>\n",
       "      <td>0.0</td>\n",
       "      <td>0.0</td>\n",
       "      <td>0.0</td>\n",
       "      <td>0.0</td>\n",
       "    </tr>\n",
       "    <tr>\n",
       "      <th>3</th>\n",
       "      <td>Venerable Knight</td>\n",
       "      <td>eld</td>\n",
       "      <td>0.0</td>\n",
       "      <td>1</td>\n",
       "      <td>normal</td>\n",
       "      <td>1.0</td>\n",
       "      <td>1.0</td>\n",
       "      <td>0.0</td>\n",
       "      <td>0.0</td>\n",
       "      <td>0.0</td>\n",
       "      <td>...</td>\n",
       "      <td>0.0</td>\n",
       "      <td>0.0</td>\n",
       "      <td>0.0</td>\n",
       "      <td>0.0</td>\n",
       "      <td>0.0</td>\n",
       "      <td>0.0</td>\n",
       "      <td>0.0</td>\n",
       "      <td>0.0</td>\n",
       "      <td>0.0</td>\n",
       "      <td>0.0</td>\n",
       "    </tr>\n",
       "    <tr>\n",
       "      <th>4</th>\n",
       "      <td>Wildcall</td>\n",
       "      <td>ugin</td>\n",
       "      <td>0.0</td>\n",
       "      <td>2</td>\n",
       "      <td>normal</td>\n",
       "      <td>1.0</td>\n",
       "      <td>0.0</td>\n",
       "      <td>0.0</td>\n",
       "      <td>0.0</td>\n",
       "      <td>0.0</td>\n",
       "      <td>...</td>\n",
       "      <td>0.0</td>\n",
       "      <td>0.0</td>\n",
       "      <td>0.0</td>\n",
       "      <td>0.0</td>\n",
       "      <td>0.0</td>\n",
       "      <td>0.0</td>\n",
       "      <td>0.0</td>\n",
       "      <td>0.0</td>\n",
       "      <td>0.0</td>\n",
       "      <td>0.0</td>\n",
       "    </tr>\n",
       "  </tbody>\n",
       "</table>\n",
       "<p>5 rows × 511 columns</p>\n",
       "</div>"
      ],
      "text/plain": [
       "               name   set  dfc  prints  layout  flavor_text  type_creature  \\\n",
       "0       Fury Sliver   tsp  0.0       3  normal          1.0            1.0   \n",
       "1     Kor Outfitter   zen  0.0       2  normal          1.0            1.0   \n",
       "2     Siren Lookout   xln  0.0       1  normal          0.0            1.0   \n",
       "3  Venerable Knight   eld  0.0       1  normal          1.0            1.0   \n",
       "4          Wildcall  ugin  0.0       2  normal          1.0            0.0   \n",
       "\n",
       "   type_artifact  type_enchantment  type_planeswalker  ...  \\\n",
       "0            0.0               0.0                0.0  ...   \n",
       "1            0.0               0.0                0.0  ...   \n",
       "2            0.0               0.0                0.0  ...   \n",
       "3            0.0               0.0                0.0  ...   \n",
       "4            0.0               0.0                0.0  ...   \n",
       "\n",
       "   custom_cheatinto_play  custom_ritual  custom_no_maximum  custom_wheel  \\\n",
       "0                    0.0            0.0                0.0           0.0   \n",
       "1                    0.0            0.0                0.0           0.0   \n",
       "2                    0.0            0.0                0.0           0.0   \n",
       "3                    0.0            0.0                0.0           0.0   \n",
       "4                    0.0            0.0                0.0           0.0   \n",
       "\n",
       "   custom_extra_combat  custom_pillow_fort  custom_land_destruction  \\\n",
       "0                  0.0                 0.0                      0.0   \n",
       "1                  0.0                 0.0                      0.0   \n",
       "2                  0.0                 0.0                      0.0   \n",
       "3                  0.0                 0.0                      0.0   \n",
       "4                  0.0                 0.0                      0.0   \n",
       "\n",
       "   custom_win_game  custom_lose_game  custom_poison  \n",
       "0              0.0               0.0            0.0  \n",
       "1              0.0               0.0            0.0  \n",
       "2              0.0               0.0            0.0  \n",
       "3              0.0               0.0            0.0  \n",
       "4              0.0               0.0            0.0  \n",
       "\n",
       "[5 rows x 511 columns]"
      ]
     },
     "execution_count": 8,
     "metadata": {},
     "output_type": "execute_result"
    }
   ],
   "source": [
    "# dataset preview\n",
    "df.head()"
   ]
  },
  {
   "cell_type": "code",
   "execution_count": 9,
   "id": "d039c9fc",
   "metadata": {},
   "outputs": [],
   "source": [
    "file = open(import_folder + 'price_cheap', 'rb')\n",
    "model_price_cheap = pickle.load(file)\n",
    "file.close()"
   ]
  },
  {
   "cell_type": "code",
   "execution_count": 10,
   "id": "1d9eaa9e",
   "metadata": {},
   "outputs": [],
   "source": [
    "file = open(import_folder + 'price_moderate', 'rb')\n",
    "model_price_moderate = pickle.load(file)\n",
    "file.close()"
   ]
  },
  {
   "cell_type": "code",
   "execution_count": 11,
   "id": "b9f4d11c",
   "metadata": {},
   "outputs": [],
   "source": [
    "file = open(import_folder + 'price_expensive', 'rb')\n",
    "model_price_expensive = pickle.load(file)\n",
    "file.close()"
   ]
  },
  {
   "cell_type": "markdown",
   "id": "8b24aed6",
   "metadata": {},
   "source": [
    "# -------------------- FUNCTIONS --------------------"
   ]
  },
  {
   "cell_type": "code",
   "execution_count": 12,
   "id": "5fa6d980",
   "metadata": {},
   "outputs": [],
   "source": [
    "# function to exclude unwanted columns\n",
    "def prepare_for_model(data, decision_class, numeric_only, columns_excludes):\n",
    "    y = data[decision_class]\n",
    "    x = data.loc[:, ~data.columns.isin(columns_to_exclude)]\n",
    "    \n",
    "    for exclude in columns_excludes:\n",
    "        x = x.loc[:, ~x.columns.str.contains(exclude)]\n",
    "        \n",
    "    if numeric_only == True:\n",
    "        x = x.select_dtypes(include=numerics)\n",
    "        \n",
    "    if decision_class not in x:\n",
    "        x[decision_class] = y\n",
    "    \n",
    "    return x"
   ]
  },
  {
   "cell_type": "markdown",
   "id": "09318caf",
   "metadata": {},
   "source": [
    "# -------------------- CARD PREDICTION --------------------"
   ]
  },
  {
   "cell_type": "code",
   "execution_count": 13,
   "id": "cbe24ee9",
   "metadata": {},
   "outputs": [],
   "source": [
    "card_name = 'Damnation'"
   ]
  },
  {
   "cell_type": "code",
   "execution_count": 14,
   "id": "93d95cf7",
   "metadata": {},
   "outputs": [
    {
     "data": {
      "text/html": [
       "<div>\n",
       "<style scoped>\n",
       "    .dataframe tbody tr th:only-of-type {\n",
       "        vertical-align: middle;\n",
       "    }\n",
       "\n",
       "    .dataframe tbody tr th {\n",
       "        vertical-align: top;\n",
       "    }\n",
       "\n",
       "    .dataframe thead th {\n",
       "        text-align: right;\n",
       "    }\n",
       "</style>\n",
       "<table border=\"1\" class=\"dataframe\">\n",
       "  <thead>\n",
       "    <tr style=\"text-align: right;\">\n",
       "      <th></th>\n",
       "      <th>name</th>\n",
       "      <th>set</th>\n",
       "      <th>dfc</th>\n",
       "      <th>prints</th>\n",
       "      <th>layout</th>\n",
       "      <th>flavor_text</th>\n",
       "      <th>type_creature</th>\n",
       "      <th>type_artifact</th>\n",
       "      <th>type_enchantment</th>\n",
       "      <th>type_planeswalker</th>\n",
       "      <th>...</th>\n",
       "      <th>custom_cheatinto_play</th>\n",
       "      <th>custom_ritual</th>\n",
       "      <th>custom_no_maximum</th>\n",
       "      <th>custom_wheel</th>\n",
       "      <th>custom_extra_combat</th>\n",
       "      <th>custom_pillow_fort</th>\n",
       "      <th>custom_land_destruction</th>\n",
       "      <th>custom_win_game</th>\n",
       "      <th>custom_lose_game</th>\n",
       "      <th>custom_poison</th>\n",
       "    </tr>\n",
       "  </thead>\n",
       "  <tbody>\n",
       "    <tr>\n",
       "      <th>31333</th>\n",
       "      <td>Damnation</td>\n",
       "      <td>2x2</td>\n",
       "      <td>0.0</td>\n",
       "      <td>7</td>\n",
       "      <td>normal</td>\n",
       "      <td>1.0</td>\n",
       "      <td>0.0</td>\n",
       "      <td>0.0</td>\n",
       "      <td>0.0</td>\n",
       "      <td>0.0</td>\n",
       "      <td>...</td>\n",
       "      <td>0.0</td>\n",
       "      <td>0.0</td>\n",
       "      <td>0.0</td>\n",
       "      <td>0.0</td>\n",
       "      <td>0.0</td>\n",
       "      <td>0.0</td>\n",
       "      <td>0.0</td>\n",
       "      <td>0.0</td>\n",
       "      <td>0.0</td>\n",
       "      <td>0.0</td>\n",
       "    </tr>\n",
       "  </tbody>\n",
       "</table>\n",
       "<p>1 rows × 511 columns</p>\n",
       "</div>"
      ],
      "text/plain": [
       "            name  set  dfc  prints  layout  flavor_text  type_creature  \\\n",
       "31333  Damnation  2x2  0.0       7  normal          1.0            0.0   \n",
       "\n",
       "       type_artifact  type_enchantment  type_planeswalker  ...  \\\n",
       "31333            0.0               0.0                0.0  ...   \n",
       "\n",
       "       custom_cheatinto_play  custom_ritual  custom_no_maximum  custom_wheel  \\\n",
       "31333                    0.0            0.0                0.0           0.0   \n",
       "\n",
       "       custom_extra_combat  custom_pillow_fort  custom_land_destruction  \\\n",
       "31333                  0.0                 0.0                      0.0   \n",
       "\n",
       "       custom_win_game  custom_lose_game  custom_poison  \n",
       "31333              0.0               0.0            0.0  \n",
       "\n",
       "[1 rows x 511 columns]"
      ]
     },
     "execution_count": 14,
     "metadata": {},
     "output_type": "execute_result"
    }
   ],
   "source": [
    "card_sample = df.loc[df['name'] == card_name].sample(n=1, random_state=0)\n",
    "card_sample"
   ]
  },
  {
   "cell_type": "code",
   "execution_count": 15,
   "id": "b4f5b068",
   "metadata": {},
   "outputs": [
    {
     "name": "stdout",
     "output_type": "stream",
     "text": [
      "Card predictions for:\n",
      "['Damnation']\n",
      "\n"
     ]
    }
   ],
   "source": [
    "print(\"Card predictions for:\")\n",
    "print(card_sample['name'].values.tolist())\n",
    "print('')\n",
    "\n",
    "df_results = pd.DataFrame(columns=['price_range', 'NO', 'YES'])\n",
    "\n",
    "x = prepare_for_model(card_sample, 'price_cheap', True, price_excludes)\n",
    "prediction_cheap = model_price_cheap.predict_proba(x.loc[:, ~x.columns.isin(['price_cheap'])])\n",
    "row_cheap = {'price_range':'cheap', 'NO':prediction_cheap[0][0], 'YES':prediction_cheap[0][1]}\n",
    "df_results = df_results.append(row_cheap, ignore_index=True)\n",
    "\n",
    "x = prepare_for_model(card_sample, 'price_moderate', True, price_excludes)\n",
    "prediction_moderate = model_price_moderate.predict_proba(x.loc[:, ~x.columns.isin(['price_moderate'])])\n",
    "row_moderate = {'price_range':'moderate', 'NO':prediction_moderate[0][0], 'YES':prediction_moderate[0][1]}\n",
    "df_results = df_results.append(row_moderate, ignore_index=True)\n",
    "\n",
    "x = prepare_for_model(card_sample, 'price_expensive', True, price_excludes)\n",
    "prediction_expensive = model_price_expensive.predict_proba(x.loc[:, ~x.columns.isin(['price_expensive'])])\n",
    "row_expensive = {'price_range':'expensive', 'NO':prediction_expensive[0][0], 'YES':prediction_expensive[0][1]}\n",
    "df_results = df_results.append(row_expensive, ignore_index=True)"
   ]
  },
  {
   "cell_type": "code",
   "execution_count": 16,
   "id": "c57e0902",
   "metadata": {},
   "outputs": [
    {
     "data": {
      "text/html": [
       "<div>\n",
       "<style scoped>\n",
       "    .dataframe tbody tr th:only-of-type {\n",
       "        vertical-align: middle;\n",
       "    }\n",
       "\n",
       "    .dataframe tbody tr th {\n",
       "        vertical-align: top;\n",
       "    }\n",
       "\n",
       "    .dataframe thead th {\n",
       "        text-align: right;\n",
       "    }\n",
       "</style>\n",
       "<table border=\"1\" class=\"dataframe\">\n",
       "  <thead>\n",
       "    <tr style=\"text-align: right;\">\n",
       "      <th></th>\n",
       "      <th>price_range</th>\n",
       "      <th>NO</th>\n",
       "      <th>YES</th>\n",
       "    </tr>\n",
       "  </thead>\n",
       "  <tbody>\n",
       "    <tr>\n",
       "      <th>0</th>\n",
       "      <td>cheap</td>\n",
       "      <td>0.903721</td>\n",
       "      <td>0.096279</td>\n",
       "    </tr>\n",
       "    <tr>\n",
       "      <th>1</th>\n",
       "      <td>moderate</td>\n",
       "      <td>0.420201</td>\n",
       "      <td>0.579799</td>\n",
       "    </tr>\n",
       "    <tr>\n",
       "      <th>2</th>\n",
       "      <td>expensive</td>\n",
       "      <td>0.182769</td>\n",
       "      <td>0.817231</td>\n",
       "    </tr>\n",
       "  </tbody>\n",
       "</table>\n",
       "</div>"
      ],
      "text/plain": [
       "  price_range        NO       YES\n",
       "0       cheap  0.903721  0.096279\n",
       "1    moderate  0.420201  0.579799\n",
       "2   expensive  0.182769  0.817231"
      ]
     },
     "execution_count": 16,
     "metadata": {},
     "output_type": "execute_result"
    }
   ],
   "source": [
    "df_results"
   ]
  },
  {
   "cell_type": "code",
   "execution_count": 17,
   "id": "bd79ddd5",
   "metadata": {},
   "outputs": [
    {
     "data": {
      "text/plain": [
       "<AxesSubplot:xlabel='price_range', ylabel='YES'>"
      ]
     },
     "execution_count": 17,
     "metadata": {},
     "output_type": "execute_result"
    },
    {
     "data": {
      "image/png": "[encoded data removed]",
      "text/plain": [
       "<Figure size 432x288 with 1 Axes>"
      ]
     },
     "metadata": {
      "needs_background": "light"
     },
     "output_type": "display_data"
    }
   ],
   "source": [
    "sea.barplot(data=df_results, x=\"price_range\", y=\"YES\")"
   ]
  }
 ],
 "metadata": {
  "kernelspec": {
   "display_name": "Python 3 (ipykernel)",
   "language": "python",
   "name": "python3"
  },
  "language_info": {
   "codemirror_mode": {
    "name": "ipython",
    "version": 3
   },
   "file_extension": ".py",
   "mimetype": "text/x-python",
   "name": "python",
   "nbconvert_exporter": "python",
   "pygments_lexer": "ipython3",
   "version": "3.9.7"
  }
 },
 "nbformat": 4,
 "nbformat_minor": 5
}
