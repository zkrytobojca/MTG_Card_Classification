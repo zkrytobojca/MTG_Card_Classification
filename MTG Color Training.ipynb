{
 "cells": [
  {
   "cell_type": "code",
   "execution_count": 1,
   "id": "489d9ce4",
   "metadata": {},
   "outputs": [],
   "source": [
    "# importing necessary libraries\n",
    "import pandas as pd\n",
    "import numpy as np\n",
    "import copy\n",
    "import matplotlib.pyplot as plt\n",
    "import random\n",
    "from sklearn.model_selection import train_test_split\n",
    "from sklearn import metrics\n",
    "import seaborn as sea\n",
    "from sklearn.preprocessing import MinMaxScaler\n",
    "from sklearn.model_selection import cross_validate\n",
    "from sklearn.model_selection import GridSearchCV\n",
    "import pickle\n",
    "\n",
    "# importing classifiers\n",
    "from sklearn.ensemble import RandomForestClassifier\n",
    "from sklearn.svm import LinearSVC\n",
    "from sklearn.neighbors import KNeighborsClassifier\n",
    "from sklearn.neural_network import MLPClassifier\n",
    "from sklearn.ensemble import GradientBoostingClassifier\n",
    "from sklearn import svm\n",
    "from sklearn.ensemble import AdaBoostClassifier"
   ]
  },
  {
   "cell_type": "markdown",
   "id": "be4976fc",
   "metadata": {},
   "source": [
    "# -------------------- PARAMETERS --------------------"
   ]
  },
  {
   "cell_type": "code",
   "execution_count": 2,
   "id": "c426d2c4",
   "metadata": {},
   "outputs": [],
   "source": [
    "# name of the file with dataset\n",
    "filename = 'mtg_dataset_02_2023'"
   ]
  },
  {
   "cell_type": "code",
   "execution_count": 3,
   "id": "e5fc26e7",
   "metadata": {},
   "outputs": [],
   "source": [
    "# importing dataset from the .cvs file with chosen name\n",
    "df = pd.read_csv('Datasets\\\\' + filename + '.csv', sep=';')"
   ]
  },
  {
   "cell_type": "code",
   "execution_count": 4,
   "id": "80d89467",
   "metadata": {},
   "outputs": [],
   "source": [
    "# name of the folder where trained models are exported to\n",
    "export_folder = 'Models\\\\'"
   ]
  },
  {
   "cell_type": "code",
   "execution_count": 5,
   "id": "1b7e651f",
   "metadata": {},
   "outputs": [],
   "source": [
    "# which columns are treated as numeric\n",
    "numerics = ['int16', 'int32', 'int64', 'float16', 'float32', 'float64']"
   ]
  },
  {
   "cell_type": "code",
   "execution_count": 6,
   "id": "14be04cd",
   "metadata": {},
   "outputs": [],
   "source": [
    "# columns to exclude from learning process\n",
    "columns_to_exclude = ['name','set']\n",
    "colors_excludes = ['color', 'devotion','manasymbols','price']"
   ]
  },
  {
   "cell_type": "code",
   "execution_count": 7,
   "id": "f69343fd",
   "metadata": {},
   "outputs": [],
   "source": [
    "# percent of objects that will serve as testing set\n",
    "test_size = 0.2"
   ]
  },
  {
   "cell_type": "code",
   "execution_count": 8,
   "id": "e8ac4d74",
   "metadata": {},
   "outputs": [],
   "source": [
    "# paramenters of random number generator\n",
    "random_state = 0\n",
    "random.seed(random_state)"
   ]
  },
  {
   "cell_type": "code",
   "execution_count": 9,
   "id": "10d3f866",
   "metadata": {},
   "outputs": [],
   "source": [
    "# choosen classifier\n",
    "classifier_prefab = RandomForestClassifier(class_weight=None, criterion='entropy', min_samples_leaf=1, n_estimators=200, random_state=random_state)\n",
    "\n",
    "# RandomForestClassifier(class_weight=None, criterion='entropy', min_samples_leaf=1, n_estimators=200, random_state=random_state)\n",
    "# AdaBoostClassifier(n_estimators=200, learning_rate=0.9, random_state=random_state)\n",
    "# KNeighborsClassifier(n_neighbors=7, weights='distance', metric='cityblock')\n",
    "# MLPClassifier(max_iter=1000, activation='relu', hidden_layer_sizes=(100, 50, 25), solver='adam', random_state=random_state)"
   ]
  },
  {
   "cell_type": "code",
   "execution_count": 10,
   "id": "a23d2393",
   "metadata": {},
   "outputs": [],
   "source": [
    "# whether the data should be balanced in terms of the distribution of the decision class\n",
    "doBalance = True"
   ]
  },
  {
   "cell_type": "code",
   "execution_count": 11,
   "id": "5c2218e0",
   "metadata": {},
   "outputs": [],
   "source": [
    "# whether data should be truncated or cloned to balance it\n",
    "upcast = False"
   ]
  },
  {
   "cell_type": "code",
   "execution_count": 12,
   "id": "330f452d",
   "metadata": {},
   "outputs": [],
   "source": [
    "# number of fold used to crossvalidate\n",
    "number_of_folds = 5"
   ]
  },
  {
   "cell_type": "code",
   "execution_count": 13,
   "id": "e00ea46d",
   "metadata": {},
   "outputs": [],
   "source": [
    "# predefined colors with name | column name | chart color map\n",
    "colors_dict = {\n",
    "    'colorless': ['Colorless cards','Greys'],\n",
    "    'colors_B': ['Black cards','Purples'],\n",
    "    'colors_G': ['Green cards','Greens'],\n",
    "    'colors_R': ['Red cards','Reds'],\n",
    "    'colors_U': ['Blue cards','Blues'],\n",
    "    'colors_W': ['White cards','YlOrBr']\n",
    "}"
   ]
  },
  {
   "cell_type": "code",
   "execution_count": 14,
   "id": "921dd09e",
   "metadata": {},
   "outputs": [],
   "source": [
    "# parameters that are currently tested\n",
    "parameters_to_test = {\n",
    "    'activation': ['logistic','relu'],\n",
    "    'solver': ['sgd','adam'],\n",
    "    'hidden_layer_sizes': [(100), (100,50), (50,25), (100,50,25)]\n",
    "}"
   ]
  },
  {
   "cell_type": "markdown",
   "id": "0323995a",
   "metadata": {},
   "source": [
    "# -------------------- BEST PARAMETERS --------------------"
   ]
  },
  {
   "cell_type": "markdown",
   "id": "4acbd4e4",
   "metadata": {},
   "source": [
    "##### RandomForestClassifier"
   ]
  },
  {
   "cell_type": "markdown",
   "id": "8bf66cd8",
   "metadata": {},
   "source": [
    "parameters_to_test = {\n",
    "    'n_estimators': [10, 20, 100, 200],\n",
    "    'criterion': ['gini','entropy'],\n",
    "    'min_samples_leaf': [1, 5, 7],\n",
    "    'class_weight': [None, 'balanced']\n",
    "}"
   ]
  },
  {
   "cell_type": "code",
   "execution_count": 15,
   "id": "76286bb8",
   "metadata": {},
   "outputs": [],
   "source": [
    "RandomForestClassifier_best_params = {\n",
    "    'class_weight': None,\n",
    "    'criterion': 'entropy',\n",
    "    'min_samples_leaf': 1,\n",
    "    'n_estimators': 200\n",
    "}"
   ]
  },
  {
   "cell_type": "markdown",
   "id": "d0555589",
   "metadata": {},
   "source": [
    "##### KNeighborsClassifier"
   ]
  },
  {
   "cell_type": "markdown",
   "id": "e9a40ee6",
   "metadata": {},
   "source": [
    "parameters_to_test = {\n",
    "    'n_neighbors': [1,3,5,7],\n",
    "    'weights': ['uniform', 'distance'],\n",
    "    'metric': ['euclidean','cityblock','chebyshev']\n",
    "}"
   ]
  },
  {
   "cell_type": "code",
   "execution_count": 16,
   "id": "5fa29b24",
   "metadata": {},
   "outputs": [],
   "source": [
    "KNeighborsClassifier_best_params = {\n",
    "    'n_neighbors': 7,\n",
    "    'weights': 'distance',\n",
    "    'metric': 'cityblock'\n",
    "}"
   ]
  },
  {
   "cell_type": "markdown",
   "id": "eb31d9c9",
   "metadata": {},
   "source": [
    "##### MLPClassifier"
   ]
  },
  {
   "cell_type": "markdown",
   "id": "6a457456",
   "metadata": {},
   "source": [
    "parameters_to_test = {\n",
    "    'activation': ['logistic','relu'],\n",
    "    'solver': ['sgd','adam'],\n",
    "    'hidden_layer_sizes': [(100), (100,50), (50,25), (100,50,25)]\n",
    "}"
   ]
  },
  {
   "cell_type": "code",
   "execution_count": 17,
   "id": "324c7c73",
   "metadata": {},
   "outputs": [],
   "source": [
    "MLPClassifier_best_params = {\n",
    "    'activation': 'relu',\n",
    "    'solver': 'adam',\n",
    "    'hidden_layer_sizes': (100, 50, 25)\n",
    "}"
   ]
  },
  {
   "cell_type": "markdown",
   "id": "0a0141f3",
   "metadata": {},
   "source": [
    "##### AdaBoostClassifier"
   ]
  },
  {
   "cell_type": "markdown",
   "id": "3e2f268a",
   "metadata": {},
   "source": [
    "parameters_to_test = {\n",
    "    'n_estimators': [10, 20, 100, 200],\n",
    "    'learning_rate': [0.6, 0.7, 0.8, 0.9, 1.0, 1.1]\n",
    "}"
   ]
  },
  {
   "cell_type": "code",
   "execution_count": 18,
   "id": "1d0bd159",
   "metadata": {},
   "outputs": [],
   "source": [
    "AdaBoostClassifier_best_params = {\n",
    "    'n_estimators': 200,\n",
    "    'learning_rate': 0.9\n",
    "}"
   ]
  },
  {
   "cell_type": "markdown",
   "id": "0af14b58",
   "metadata": {},
   "source": [
    "# --------------------------- DATA ---------------------------"
   ]
  },
  {
   "cell_type": "code",
   "execution_count": 19,
   "id": "28dabfa6",
   "metadata": {},
   "outputs": [
    {
     "data": {
      "text/html": [
       "<div>\n",
       "<style scoped>\n",
       "    .dataframe tbody tr th:only-of-type {\n",
       "        vertical-align: middle;\n",
       "    }\n",
       "\n",
       "    .dataframe tbody tr th {\n",
       "        vertical-align: top;\n",
       "    }\n",
       "\n",
       "    .dataframe thead th {\n",
       "        text-align: right;\n",
       "    }\n",
       "</style>\n",
       "<table border=\"1\" class=\"dataframe\">\n",
       "  <thead>\n",
       "    <tr style=\"text-align: right;\">\n",
       "      <th></th>\n",
       "      <th>name</th>\n",
       "      <th>set</th>\n",
       "      <th>dfc</th>\n",
       "      <th>prints</th>\n",
       "      <th>layout</th>\n",
       "      <th>flavor_text</th>\n",
       "      <th>type_creature</th>\n",
       "      <th>type_artifact</th>\n",
       "      <th>type_enchantment</th>\n",
       "      <th>type_planeswalker</th>\n",
       "      <th>...</th>\n",
       "      <th>custom_cheatinto_play</th>\n",
       "      <th>custom_ritual</th>\n",
       "      <th>custom_no_maximum</th>\n",
       "      <th>custom_wheel</th>\n",
       "      <th>custom_extra_combat</th>\n",
       "      <th>custom_pillow_fort</th>\n",
       "      <th>custom_land_destruction</th>\n",
       "      <th>custom_win_game</th>\n",
       "      <th>custom_lose_game</th>\n",
       "      <th>custom_poison</th>\n",
       "    </tr>\n",
       "  </thead>\n",
       "  <tbody>\n",
       "    <tr>\n",
       "      <th>0</th>\n",
       "      <td>Fury Sliver</td>\n",
       "      <td>tsp</td>\n",
       "      <td>0.0</td>\n",
       "      <td>3</td>\n",
       "      <td>normal</td>\n",
       "      <td>1.0</td>\n",
       "      <td>1.0</td>\n",
       "      <td>0.0</td>\n",
       "      <td>0.0</td>\n",
       "      <td>0.0</td>\n",
       "      <td>...</td>\n",
       "      <td>0.0</td>\n",
       "      <td>0.0</td>\n",
       "      <td>0.0</td>\n",
       "      <td>0.0</td>\n",
       "      <td>0.0</td>\n",
       "      <td>0.0</td>\n",
       "      <td>0.0</td>\n",
       "      <td>0.0</td>\n",
       "      <td>0.0</td>\n",
       "      <td>0.0</td>\n",
       "    </tr>\n",
       "    <tr>\n",
       "      <th>1</th>\n",
       "      <td>Kor Outfitter</td>\n",
       "      <td>zen</td>\n",
       "      <td>0.0</td>\n",
       "      <td>2</td>\n",
       "      <td>normal</td>\n",
       "      <td>1.0</td>\n",
       "      <td>1.0</td>\n",
       "      <td>0.0</td>\n",
       "      <td>0.0</td>\n",
       "      <td>0.0</td>\n",
       "      <td>...</td>\n",
       "      <td>0.0</td>\n",
       "      <td>0.0</td>\n",
       "      <td>0.0</td>\n",
       "      <td>0.0</td>\n",
       "      <td>0.0</td>\n",
       "      <td>0.0</td>\n",
       "      <td>0.0</td>\n",
       "      <td>0.0</td>\n",
       "      <td>0.0</td>\n",
       "      <td>0.0</td>\n",
       "    </tr>\n",
       "    <tr>\n",
       "      <th>2</th>\n",
       "      <td>Siren Lookout</td>\n",
       "      <td>xln</td>\n",
       "      <td>0.0</td>\n",
       "      <td>1</td>\n",
       "      <td>normal</td>\n",
       "      <td>0.0</td>\n",
       "      <td>1.0</td>\n",
       "      <td>0.0</td>\n",
       "      <td>0.0</td>\n",
       "      <td>0.0</td>\n",
       "      <td>...</td>\n",
       "      <td>0.0</td>\n",
       "      <td>0.0</td>\n",
       "      <td>0.0</td>\n",
       "      <td>0.0</td>\n",
       "      <td>0.0</td>\n",
       "      <td>0.0</td>\n",
       "      <td>0.0</td>\n",
       "      <td>0.0</td>\n",
       "      <td>0.0</td>\n",
       "      <td>0.0</td>\n",
       "    </tr>\n",
       "    <tr>\n",
       "      <th>3</th>\n",
       "      <td>Venerable Knight</td>\n",
       "      <td>eld</td>\n",
       "      <td>0.0</td>\n",
       "      <td>1</td>\n",
       "      <td>normal</td>\n",
       "      <td>1.0</td>\n",
       "      <td>1.0</td>\n",
       "      <td>0.0</td>\n",
       "      <td>0.0</td>\n",
       "      <td>0.0</td>\n",
       "      <td>...</td>\n",
       "      <td>0.0</td>\n",
       "      <td>0.0</td>\n",
       "      <td>0.0</td>\n",
       "      <td>0.0</td>\n",
       "      <td>0.0</td>\n",
       "      <td>0.0</td>\n",
       "      <td>0.0</td>\n",
       "      <td>0.0</td>\n",
       "      <td>0.0</td>\n",
       "      <td>0.0</td>\n",
       "    </tr>\n",
       "    <tr>\n",
       "      <th>4</th>\n",
       "      <td>Wildcall</td>\n",
       "      <td>ugin</td>\n",
       "      <td>0.0</td>\n",
       "      <td>2</td>\n",
       "      <td>normal</td>\n",
       "      <td>1.0</td>\n",
       "      <td>0.0</td>\n",
       "      <td>0.0</td>\n",
       "      <td>0.0</td>\n",
       "      <td>0.0</td>\n",
       "      <td>...</td>\n",
       "      <td>0.0</td>\n",
       "      <td>0.0</td>\n",
       "      <td>0.0</td>\n",
       "      <td>0.0</td>\n",
       "      <td>0.0</td>\n",
       "      <td>0.0</td>\n",
       "      <td>0.0</td>\n",
       "      <td>0.0</td>\n",
       "      <td>0.0</td>\n",
       "      <td>0.0</td>\n",
       "    </tr>\n",
       "  </tbody>\n",
       "</table>\n",
       "<p>5 rows × 511 columns</p>\n",
       "</div>"
      ],
      "text/plain": [
       "               name   set  dfc  prints  layout  flavor_text  type_creature  \\\n",
       "0       Fury Sliver   tsp  0.0       3  normal          1.0            1.0   \n",
       "1     Kor Outfitter   zen  0.0       2  normal          1.0            1.0   \n",
       "2     Siren Lookout   xln  0.0       1  normal          0.0            1.0   \n",
       "3  Venerable Knight   eld  0.0       1  normal          1.0            1.0   \n",
       "4          Wildcall  ugin  0.0       2  normal          1.0            0.0   \n",
       "\n",
       "   type_artifact  type_enchantment  type_planeswalker  ...  \\\n",
       "0            0.0               0.0                0.0  ...   \n",
       "1            0.0               0.0                0.0  ...   \n",
       "2            0.0               0.0                0.0  ...   \n",
       "3            0.0               0.0                0.0  ...   \n",
       "4            0.0               0.0                0.0  ...   \n",
       "\n",
       "   custom_cheatinto_play  custom_ritual  custom_no_maximum  custom_wheel  \\\n",
       "0                    0.0            0.0                0.0           0.0   \n",
       "1                    0.0            0.0                0.0           0.0   \n",
       "2                    0.0            0.0                0.0           0.0   \n",
       "3                    0.0            0.0                0.0           0.0   \n",
       "4                    0.0            0.0                0.0           0.0   \n",
       "\n",
       "   custom_extra_combat  custom_pillow_fort  custom_land_destruction  \\\n",
       "0                  0.0                 0.0                      0.0   \n",
       "1                  0.0                 0.0                      0.0   \n",
       "2                  0.0                 0.0                      0.0   \n",
       "3                  0.0                 0.0                      0.0   \n",
       "4                  0.0                 0.0                      0.0   \n",
       "\n",
       "   custom_win_game  custom_lose_game  custom_poison  \n",
       "0              0.0               0.0            0.0  \n",
       "1              0.0               0.0            0.0  \n",
       "2              0.0               0.0            0.0  \n",
       "3              0.0               0.0            0.0  \n",
       "4              0.0               0.0            0.0  \n",
       "\n",
       "[5 rows x 511 columns]"
      ]
     },
     "execution_count": 19,
     "metadata": {},
     "output_type": "execute_result"
    }
   ],
   "source": [
    "# dataset preview\n",
    "df.head()"
   ]
  },
  {
   "cell_type": "markdown",
   "id": "39ff5237",
   "metadata": {},
   "source": [
    "# -------------------- FUNCTIONS --------------------"
   ]
  },
  {
   "cell_type": "code",
   "execution_count": 20,
   "id": "d6683d95",
   "metadata": {},
   "outputs": [],
   "source": [
    "# function to normalize columns with numeric values\n",
    "def normalize_data_frame(data):\n",
    "    scaler = MinMaxScaler()\n",
    "    scaler.fit(data)\n",
    "    scaled = scaler.fit_transform(data)\n",
    "    scaled_df = pd.DataFrame(scaled, columns=data.columns)\n",
    "    return pd.DataFrame(scaled_df)"
   ]
  },
  {
   "cell_type": "code",
   "execution_count": 21,
   "id": "d51a7ac0",
   "metadata": {},
   "outputs": [],
   "source": [
    "# function to exclude unwanted columns\n",
    "def prepare_for_model(data, decision_class, numeric_only, columns_excludes):\n",
    "    y = data[decision_class]\n",
    "    x = data.loc[:, ~data.columns.isin(columns_to_exclude)]\n",
    "    \n",
    "    for exclude in columns_excludes:\n",
    "        x = x.loc[:, ~x.columns.str.contains(exclude)]\n",
    "        \n",
    "    if numeric_only == True:\n",
    "        x = x.select_dtypes(include=numerics)\n",
    "        \n",
    "    if decision_class not in x:\n",
    "        x[decision_class] = y\n",
    "    \n",
    "    return x"
   ]
  },
  {
   "cell_type": "code",
   "execution_count": 22,
   "id": "a9ad8cda",
   "metadata": {},
   "outputs": [],
   "source": [
    "# spliting data into training and test sets balancing them\n",
    "def custom_train_test_split(decision_class, x, test_size, upcast):\n",
    "    decision_class_values = x[decision_class].unique()\n",
    "    \n",
    "    x_values = {}\n",
    "    for d_val in decision_class_values:\n",
    "        x_values[d_val] = x.loc[x[decision_class] == d_val]\n",
    "    \n",
    "    \n",
    "    min_count = x_values[decision_class_values[0]].shape[0]\n",
    "    max_count = x_values[decision_class_values[0]].shape[0]\n",
    "    for i in range(0, len(decision_class_values)-1):\n",
    "        min_count = min(x_values[decision_class_values[i]].shape[0], x_values[decision_class_values[i+1]].shape[0])\n",
    "        max_count = max(x_values[decision_class_values[i]].shape[0], x_values[decision_class_values[i+1]].shape[0])\n",
    "    \n",
    "   \n",
    "    for d_val in decision_class_values:\n",
    "        x_values[d_val] = x_values[d_val].sample(n=min_count, random_state=random_state)\n",
    "        \n",
    "    \n",
    "    if upcast:\n",
    "        diff_count = max_count - min_count\n",
    "        while diff_count > 0:\n",
    "            number_to_add = min(diff_count, min_count)\n",
    "            for d_val in decision_class_values:\n",
    "                x_values[d_val] = x_values[d_val].append(x_values[d_val].sample(n=number_to_add))\n",
    "            diff_count = diff_count - min_count\n",
    "            \n",
    "    \n",
    "    new_x = x_values[decision_class_values[0]]\n",
    "    for i in range(0, len(decision_class_values)-1):\n",
    "        new_x = new_x.append(x_values[decision_class_values[i+1]])\n",
    "    \n",
    "    \n",
    "    y_values = {}\n",
    "    for d_val in decision_class_values:\n",
    "        y_values[d_val] = (x_values[d_val])[decision_class]\n",
    "\n",
    "    \n",
    "    for d_val in decision_class_values:\n",
    "        x_values[d_val] = x_values[d_val].drop(decision_class, axis=1)\n",
    "    \n",
    "    x_train, x_test, y_train, y_test = train_test_split(x_values[decision_class_values[0]], y_values[decision_class_values[0]], test_size=test_size)\n",
    "    for i in range(0, len(decision_class_values)-1):\n",
    "        x_i_train, x_i_test, y_i_train, y_i_test = train_test_split(x_values[decision_class_values[i+1]], y_values[decision_class_values[i+1]], test_size=test_size)\n",
    "        x_train = x_train.append(x_i_train)\n",
    "        x_test = x_test.append(x_i_test)\n",
    "        y_train = y_train.append(y_i_train)\n",
    "        y_test = y_test.append(y_i_test)\n",
    "         \n",
    "    return x_train, x_test, y_train, y_test, new_x"
   ]
  },
  {
   "cell_type": "code",
   "execution_count": 23,
   "id": "df9b2bb5",
   "metadata": {},
   "outputs": [],
   "source": [
    "# training classifier and printing out its scores\n",
    "def training_statistics(decision_class, x, classifier, doBalance, n, cmap):   \n",
    "    \n",
    "    (x.groupby(decision_class))[decision_class].count().plot.bar(ylim=0)\n",
    "    print((x.groupby(decision_class))[decision_class].count())\n",
    "    plt.title(str(colors_dict[decision_class][0]) + \" - histogram\",fontweight =\"bold\")\n",
    "    plt.show()\n",
    "    \n",
    "    if doBalance:\n",
    "        x_train, x_test, y_train, y_test, new_x = custom_train_test_split(decision_class, x, test_size=n, upcast=upcast)\n",
    "        (new_x.groupby(decision_class))[decision_class].count().plot.bar(ylim=0)\n",
    "        print((new_x.groupby(decision_class))[decision_class].count())\n",
    "        plt.title(str(colors_dict[decision_class][0]) + \" - histogram after balance\",fontweight =\"bold\")\n",
    "        plt.show()\n",
    "    else:\n",
    "        x_train, x_test, y_train, y_test = train_test_split(x.loc[:, ~x.columns.isin([decision_class])], x[decision_class], test_size=n)\n",
    "        new_x = x\n",
    "    \n",
    "    cross_scoring = ['accuracy', 'precision','recall','f1_micro','roc_auc']\n",
    "    scores = cross_validate(classifier, new_x.loc[:, ~new_x.columns.isin([decision_class])], new_x[decision_class], cv=number_of_folds, scoring=cross_scoring)\n",
    "    \n",
    "    trained_classifier = classifier.fit(x_train, y_train)\n",
    "    predicted = trained_classifier.predict(x_test)\n",
    "    \n",
    "    print(\"Training results for \" + str(decision_class) + \":\")\n",
    "    accuracy = scores['test_accuracy'].mean()\n",
    "    print(\"Accuracy: \" + str(accuracy))\n",
    "    precision = scores['test_precision'].mean()\n",
    "    print(\"Precision: \" + str(precision))\n",
    "    recall = scores['test_recall'].mean()\n",
    "    print(\"Recall: \" + str(recall))\n",
    "    f1 = scores['test_f1_micro'].mean()\n",
    "    print(\"F1 Score: \" + str(f1))\n",
    "    roc = scores['test_roc_auc'].mean()\n",
    "    print(\"ROC Area: \" + str(roc))\n",
    "    conf_mat = metrics.confusion_matrix(y_test, predicted)\n",
    "    \n",
    "    print(\"Confusion Matrix: \")\n",
    "    confusion_matrix = sea.heatmap(conf_mat, annot=True, fmt='d', cmap=cmap).set(title=colors_dict[decision_class][0], \n",
    "                                                              ylabel='Actual value', \n",
    "                                                              xlabel='Predicted value')\n",
    "\n",
    "    file = open(export_folder + decision_class, 'wb')\n",
    "    pickle.dump(trained_classifier, file)\n",
    "    file.close()"
   ]
  },
  {
   "cell_type": "code",
   "execution_count": 24,
   "id": "8e69ccb0",
   "metadata": {},
   "outputs": [],
   "source": [
    "# finding best set of parameters for given dataframe\n",
    "def find_best_parameters(decision_class, x, classifier, doBalance, n):\n",
    "    \n",
    "    if doBalance:\n",
    "        x_train, x_test, y_train, y_test, new_x = custom_train_test_split(decision_class, x, test_size=n, upcast=upcast)\n",
    "    else:\n",
    "        x_train, x_test, y_train, y_test = train_test_split(x.loc[:, ~x.columns.isin([decision_class])], x[decision_class], test_size=n)\n",
    "        new_x = x\n",
    "        \n",
    "    classifierGS = GridSearchCV(\n",
    "        classifier, \n",
    "        param_grid=parameters_to_test,\n",
    "        scoring='accuracy',\n",
    "        cv=number_of_folds,\n",
    "        verbose=3\n",
    "    )\n",
    "    trained_classifier = classifierGS.fit(x_train, y_train)\n",
    "    \n",
    "    print(\"Done\")\n",
    "    \n",
    "    return trained_classifier.best_params_, trained_classifier.cv_results_"
   ]
  },
  {
   "cell_type": "code",
   "execution_count": 25,
   "id": "ef04f45f",
   "metadata": {},
   "outputs": [],
   "source": [
    "def best_features_for_RandomForest(x, classifier):\n",
    "    feature_imps = pd.DataFrame()\n",
    "    feature_imps['feature'] = x.columns[:-1]\n",
    "    feature_imps['importance'] = (classifier.feature_importances_).tolist()\n",
    "    return feature_imps.sort_values(by='importance', ascending=False)"
   ]
  },
  {
   "cell_type": "markdown",
   "id": "80fb879d",
   "metadata": {},
   "source": [
    "# -------------------- Tests --------------------"
   ]
  },
  {
   "cell_type": "markdown",
   "id": "a55dbb9b",
   "metadata": {},
   "source": [
    "# --- Colors ---"
   ]
  },
  {
   "cell_type": "code",
   "execution_count": 26,
   "id": "94ec9840",
   "metadata": {},
   "outputs": [
    {
     "name": "stdout",
     "output_type": "stream",
     "text": [
      "colorless\n",
      "0.0    32324\n",
      "1.0     3935\n",
      "Name: colorless, dtype: int64\n"
     ]
    },
    {
     "data": {
      "image/png": "[encoded data removed]",
      "text/plain": [
       "<Figure size 432x288 with 1 Axes>"
      ]
     },
     "metadata": {
      "needs_background": "light"
     },
     "output_type": "display_data"
    },
    {
     "name": "stdout",
     "output_type": "stream",
     "text": [
      "colorless\n",
      "0.0    3935\n",
      "1.0    3935\n",
      "Name: colorless, dtype: int64\n"
     ]
    },
    {
     "data": {
      "image/png": "[encoded data removed]",
      "text/plain": [
       "<Figure size 432x288 with 1 Axes>"
      ]
     },
     "metadata": {
      "needs_background": "light"
     },
     "output_type": "display_data"
    },
    {
     "name": "stdout",
     "output_type": "stream",
     "text": [
      "Training results for colorless:\n",
      "Accuracy: 0.9800508259212197\n",
      "Precision: 0.9765431774118444\n",
      "Recall: 0.9837357052096569\n",
      "F1 Score: 0.9800508259212197\n",
      "ROC Area: 0.9946834601021362\n",
      "Confusion Matrix: \n"
     ]
    },
    {
     "data": {
      "image/png": "[encoded data removed]",
      "text/plain": [
       "<Figure size 432x288 with 2 Axes>"
      ]
     },
     "metadata": {
      "needs_background": "light"
     },
     "output_type": "display_data"
    }
   ],
   "source": [
    "x = prepare_for_model(df, 'colorless', True, colors_excludes)\n",
    "\n",
    "classifier = classifier_prefab\n",
    "training_statistics('colorless', x, classifier, doBalance, test_size, 'Greys')"
   ]
  },
  {
   "cell_type": "markdown",
   "id": "bdb18a79",
   "metadata": {},
   "source": [
    "best_features_for_RandomForest(x, pickle.loads(trained_classifier_colorless)).head()"
   ]
  },
  {
   "cell_type": "code",
   "execution_count": 27,
   "id": "41e89734",
   "metadata": {},
   "outputs": [
    {
     "name": "stdout",
     "output_type": "stream",
     "text": [
      "colors_B\n",
      "0.0    28492\n",
      "1.0     7767\n",
      "Name: colors_B, dtype: int64\n"
     ]
    },
    {
     "data": {
      "image/png": "[encoded data removed]",
      "text/plain": [
       "<Figure size 432x288 with 1 Axes>"
      ]
     },
     "metadata": {
      "needs_background": "light"
     },
     "output_type": "display_data"
    },
    {
     "name": "stdout",
     "output_type": "stream",
     "text": [
      "colors_B\n",
      "0.0    7767\n",
      "1.0    7767\n",
      "Name: colors_B, dtype: int64\n"
     ]
    },
    {
     "data": {
      "image/png": "[encoded data removed]",
      "text/plain": [
       "<Figure size 432x288 with 1 Axes>"
      ]
     },
     "metadata": {
      "needs_background": "light"
     },
     "output_type": "display_data"
    },
    {
     "name": "stdout",
     "output_type": "stream",
     "text": [
      "Training results for colors_B:\n",
      "Accuracy: 0.8284414376195166\n",
      "Precision: 0.8165179311174888\n",
      "Recall: 0.8473033883851656\n",
      "F1 Score: 0.8284414376195166\n",
      "ROC Area: 0.9128166941926656\n",
      "Confusion Matrix: \n"
     ]
    },
    {
     "data": {
      "image/png": "[encoded data removed]",
      "text/plain": [
       "<Figure size 432x288 with 2 Axes>"
      ]
     },
     "metadata": {
      "needs_background": "light"
     },
     "output_type": "display_data"
    }
   ],
   "source": [
    "x = prepare_for_model(df, 'colors_B', True, colors_excludes)\n",
    "\n",
    "classifier = classifier_prefab\n",
    "training_statistics('colors_B', x, classifier, doBalance, test_size, 'Purples')"
   ]
  },
  {
   "cell_type": "markdown",
   "id": "727b1f44",
   "metadata": {},
   "source": [
    "best_features_for_RandomForest(x, pickle.loads(trained_classifier_black)).head()"
   ]
  },
  {
   "cell_type": "code",
   "execution_count": 28,
   "id": "abc3a4ed",
   "metadata": {},
   "outputs": [
    {
     "name": "stdout",
     "output_type": "stream",
     "text": [
      "colors_G\n",
      "0.0    28409\n",
      "1.0     7850\n",
      "Name: colors_G, dtype: int64\n"
     ]
    },
    {
     "data": {
      "image/png": "[encoded data removed]",
      "text/plain": [
       "<Figure size 432x288 with 1 Axes>"
      ]
     },
     "metadata": {
      "needs_background": "light"
     },
     "output_type": "display_data"
    },
    {
     "name": "stdout",
     "output_type": "stream",
     "text": [
      "colors_G\n",
      "0.0    7850\n",
      "1.0    7850\n",
      "Name: colors_G, dtype: int64\n"
     ]
    },
    {
     "data": {
      "image/png": "[encoded data removed]",
      "text/plain": [
       "<Figure size 432x288 with 1 Axes>"
      ]
     },
     "metadata": {
      "needs_background": "light"
     },
     "output_type": "display_data"
    },
    {
     "name": "stdout",
     "output_type": "stream",
     "text": [
      "Training results for colors_G:\n",
      "Accuracy: 0.8315923566878981\n",
      "Precision: 0.815136561443867\n",
      "Recall: 0.8582165605095542\n",
      "F1 Score: 0.8315923566878981\n",
      "ROC Area: 0.9187061138382896\n",
      "Confusion Matrix: \n"
     ]
    },
    {
     "data": {
      "image/png": "[encoded data removed]",
      "text/plain": [
       "<Figure size 432x288 with 2 Axes>"
      ]
     },
     "metadata": {
      "needs_background": "light"
     },
     "output_type": "display_data"
    }
   ],
   "source": [
    "x = prepare_for_model(df, 'colors_G', True, colors_excludes)\n",
    "\n",
    "classifier = classifier_prefab\n",
    "training_statistics('colors_G', x, classifier, doBalance, test_size, 'Greens')"
   ]
  },
  {
   "cell_type": "markdown",
   "id": "3c01a1f8",
   "metadata": {},
   "source": [
    "best_features_for_RandomForest(x, pickle.loads(trained_classifier_green)).head()"
   ]
  },
  {
   "cell_type": "code",
   "execution_count": 29,
   "id": "1cd6e011",
   "metadata": {},
   "outputs": [
    {
     "name": "stdout",
     "output_type": "stream",
     "text": [
      "colors_R\n",
      "0.0    28598\n",
      "1.0     7661\n",
      "Name: colors_R, dtype: int64\n"
     ]
    },
    {
     "data": {
      "image/png": "[encoded data removed]",
      "text/plain": [
       "<Figure size 432x288 with 1 Axes>"
      ]
     },
     "metadata": {
      "needs_background": "light"
     },
     "output_type": "display_data"
    },
    {
     "name": "stdout",
     "output_type": "stream",
     "text": [
      "colors_R\n",
      "0.0    7661\n",
      "1.0    7661\n",
      "Name: colors_R, dtype: int64\n"
     ]
    },
    {
     "data": {
      "image/png": "[encoded data removed]",
      "text/plain": [
       "<Figure size 432x288 with 1 Axes>"
      ]
     },
     "metadata": {
      "needs_background": "light"
     },
     "output_type": "display_data"
    },
    {
     "name": "stdout",
     "output_type": "stream",
     "text": [
      "Training results for colors_R:\n",
      "Accuracy: 0.8243043031957713\n",
      "Precision: 0.8132224254088112\n",
      "Recall: 0.8420550329649368\n",
      "F1 Score: 0.8243043031957713\n",
      "ROC Area: 0.9111586506739322\n",
      "Confusion Matrix: \n"
     ]
    },
    {
     "data": {
      "image/png": "[encoded data removed]",
      "text/plain": [
       "<Figure size 432x288 with 2 Axes>"
      ]
     },
     "metadata": {
      "needs_background": "light"
     },
     "output_type": "display_data"
    }
   ],
   "source": [
    "x = prepare_for_model(df, 'colors_R', True, colors_excludes)\n",
    "\n",
    "classifier = classifier_prefab\n",
    "training_statistics('colors_R', x, classifier, doBalance, test_size, 'Reds')"
   ]
  },
  {
   "cell_type": "markdown",
   "id": "757f2619",
   "metadata": {},
   "source": [
    "best_features_for_RandomForest(x, pickle.loads(trained_classifier_red)).head()"
   ]
  },
  {
   "cell_type": "code",
   "execution_count": 30,
   "id": "30a023ea",
   "metadata": {},
   "outputs": [
    {
     "name": "stdout",
     "output_type": "stream",
     "text": [
      "colors_U\n",
      "0.0    28701\n",
      "1.0     7558\n",
      "Name: colors_U, dtype: int64\n"
     ]
    },
    {
     "data": {
      "image/png": "[encoded data removed]",
      "text/plain": [
       "<Figure size 432x288 with 1 Axes>"
      ]
     },
     "metadata": {
      "needs_background": "light"
     },
     "output_type": "display_data"
    },
    {
     "name": "stdout",
     "output_type": "stream",
     "text": [
      "colors_U\n",
      "0.0    7558\n",
      "1.0    7558\n",
      "Name: colors_U, dtype: int64\n"
     ]
    },
    {
     "data": {
      "image/png": "[encoded data removed]",
      "text/plain": [
       "<Figure size 432x288 with 1 Axes>"
      ]
     },
     "metadata": {
      "needs_background": "light"
     },
     "output_type": "display_data"
    },
    {
     "name": "stdout",
     "output_type": "stream",
     "text": [
      "Training results for colors_U:\n",
      "Accuracy: 0.8332228269335447\n",
      "Precision: 0.8184894990497703\n",
      "Recall: 0.8564446265306623\n",
      "F1 Score: 0.8332228269335447\n",
      "ROC Area: 0.9173787455026622\n",
      "Confusion Matrix: \n"
     ]
    },
    {
     "data": {
      "image/png": "[encoded data removed]",
      "text/plain": [
       "<Figure size 432x288 with 2 Axes>"
      ]
     },
     "metadata": {
      "needs_background": "light"
     },
     "output_type": "display_data"
    }
   ],
   "source": [
    "x = prepare_for_model(df, 'colors_U', True, colors_excludes)\n",
    "\n",
    "classifier = classifier_prefab\n",
    "training_statistics('colors_U', x, classifier, doBalance, test_size, 'Blues')"
   ]
  },
  {
   "cell_type": "markdown",
   "id": "edd8a8bb",
   "metadata": {},
   "source": [
    "best_features_for_RandomForest(x, pickle.loads(trained_classifier_blue)).head()"
   ]
  },
  {
   "cell_type": "code",
   "execution_count": 31,
   "id": "bfa89b50",
   "metadata": {},
   "outputs": [
    {
     "name": "stdout",
     "output_type": "stream",
     "text": [
      "colors_W\n",
      "0.0    28574\n",
      "1.0     7685\n",
      "Name: colors_W, dtype: int64\n"
     ]
    },
    {
     "data": {
      "image/png": "[encoded data removed]",
      "text/plain": [
       "<Figure size 432x288 with 1 Axes>"
      ]
     },
     "metadata": {
      "needs_background": "light"
     },
     "output_type": "display_data"
    },
    {
     "name": "stdout",
     "output_type": "stream",
     "text": [
      "colors_W\n",
      "0.0    7685\n",
      "1.0    7685\n",
      "Name: colors_W, dtype: int64\n"
     ]
    },
    {
     "data": {
      "image/png": "[encoded data removed]",
      "text/plain": [
       "<Figure size 432x288 with 1 Axes>"
      ]
     },
     "metadata": {
      "needs_background": "light"
     },
     "output_type": "display_data"
    },
    {
     "name": "stdout",
     "output_type": "stream",
     "text": [
      "Training results for colors_W:\n",
      "Accuracy: 0.8040338321405335\n",
      "Precision: 0.7802122011333262\n",
      "Recall: 0.8467143786597268\n",
      "F1 Score: 0.8040338321405335\n",
      "ROC Area: 0.8958338853921635\n",
      "Confusion Matrix: \n"
     ]
    },
    {
     "data": {
      "image/png": "[encoded data removed]",
      "text/plain": [
       "<Figure size 432x288 with 2 Axes>"
      ]
     },
     "metadata": {
      "needs_background": "light"
     },
     "output_type": "display_data"
    }
   ],
   "source": [
    "x = prepare_for_model(df, 'colors_W', True, colors_excludes)\n",
    "\n",
    "classifier = classifier_prefab\n",
    "training_statistics('colors_W', x, classifier, doBalance, test_size, 'YlOrBr')"
   ]
  },
  {
   "cell_type": "markdown",
   "id": "571a11cd",
   "metadata": {},
   "source": [
    "best_features_for_RandomForest(x, pickle.loads(trained_classifier_white)).head()"
   ]
  },
  {
   "cell_type": "markdown",
   "id": "f9d22424",
   "metadata": {},
   "source": [
    "# -------------------- BEST PARAMETERS --------------------"
   ]
  },
  {
   "cell_type": "raw",
   "id": "7ff19b84",
   "metadata": {},
   "source": [
    "x = prepare_for_model(df, 'colors_W', True, colors_excludes)\n",
    "\n",
    "classifier = classifier_prefab\n",
    "best_params, cv_results = find_best_parameters('colors_W', x, classifier, doBalance, test_size)"
   ]
  },
  {
   "cell_type": "raw",
   "id": "10304503",
   "metadata": {},
   "source": [
    "best_params"
   ]
  },
  {
   "cell_type": "raw",
   "id": "c8d6445b",
   "metadata": {},
   "source": [
    "GSresults = pd.DataFrame(cv_results)\n",
    "GSresults.head()"
   ]
  },
  {
   "cell_type": "raw",
   "id": "14819d5d",
   "metadata": {},
   "source": [
    "GSresults.to_csv(\"GSresults.csv\", index=False, sep=';')"
   ]
  }
 ],
 "metadata": {
  "kernelspec": {
   "display_name": "Python 3 (ipykernel)",
   "language": "python",
   "name": "python3"
  },
  "language_info": {
   "codemirror_mode": {
    "name": "ipython",
    "version": 3
   },
   "file_extension": ".py",
   "mimetype": "text/x-python",
   "name": "python",
   "nbconvert_exporter": "python",
   "pygments_lexer": "ipython3",
   "version": "3.9.7"
  }
 },
 "nbformat": 4,
 "nbformat_minor": 5
}
