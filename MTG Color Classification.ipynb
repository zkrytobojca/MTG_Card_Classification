{
 "cells": [
  {
   "cell_type": "code",
   "execution_count": 1,
   "id": "8788de14",
   "metadata": {},
   "outputs": [],
   "source": [
    "# importing necessary libraries\n",
    "import pandas as pd\n",
    "import numpy as np\n",
    "import random\n",
    "from sklearn import metrics\n",
    "import seaborn as sea\n",
    "import pickle"
   ]
  },
  {
   "cell_type": "markdown",
   "id": "dba7dd99",
   "metadata": {},
   "source": [
    "# -------------------- PARAMETERS --------------------"
   ]
  },
  {
   "cell_type": "code",
   "execution_count": 2,
   "id": "a21b567c",
   "metadata": {},
   "outputs": [],
   "source": [
    "# name of the file with dataset\n",
    "filename = 'mtg_dataset_02_2023'"
   ]
  },
  {
   "cell_type": "code",
   "execution_count": 3,
   "id": "6665b9b2",
   "metadata": {},
   "outputs": [],
   "source": [
    "# importing dataset from the .cvs file with chosen name\n",
    "df = pd.read_csv('Datasets\\\\' + filename + '.csv', sep=';')"
   ]
  },
  {
   "cell_type": "code",
   "execution_count": 4,
   "id": "f2a4b4e7",
   "metadata": {},
   "outputs": [],
   "source": [
    "# name of the folder where trained models are imported from\n",
    "import_folder = 'Models\\\\'"
   ]
  },
  {
   "cell_type": "code",
   "execution_count": 5,
   "id": "3e21c18f",
   "metadata": {},
   "outputs": [],
   "source": [
    "# which columns are treated as numeric\n",
    "numerics = ['int16', 'int32', 'int64', 'float16', 'float32', 'float64']"
   ]
  },
  {
   "cell_type": "code",
   "execution_count": 6,
   "id": "682c73d5",
   "metadata": {},
   "outputs": [],
   "source": [
    "# columns to exclude\n",
    "columns_to_exclude = ['name','set']\n",
    "colors_excludes = ['color', 'devotion','manasymbols','price']"
   ]
  },
  {
   "cell_type": "code",
   "execution_count": 7,
   "id": "f7374ec0",
   "metadata": {},
   "outputs": [],
   "source": [
    "# paramenters of random number generator\n",
    "random_state = 0\n",
    "random.seed(random_state)"
   ]
  },
  {
   "cell_type": "markdown",
   "id": "65209a5f",
   "metadata": {},
   "source": [
    "# --------------------------- DATA ---------------------------"
   ]
  },
  {
   "cell_type": "code",
   "execution_count": 8,
   "id": "fc018d3a",
   "metadata": {},
   "outputs": [
    {
     "data": {
      "text/html": [
       "<div>\n",
       "<style scoped>\n",
       "    .dataframe tbody tr th:only-of-type {\n",
       "        vertical-align: middle;\n",
       "    }\n",
       "\n",
       "    .dataframe tbody tr th {\n",
       "        vertical-align: top;\n",
       "    }\n",
       "\n",
       "    .dataframe thead th {\n",
       "        text-align: right;\n",
       "    }\n",
       "</style>\n",
       "<table border=\"1\" class=\"dataframe\">\n",
       "  <thead>\n",
       "    <tr style=\"text-align: right;\">\n",
       "      <th></th>\n",
       "      <th>name</th>\n",
       "      <th>set</th>\n",
       "      <th>dfc</th>\n",
       "      <th>prints</th>\n",
       "      <th>layout</th>\n",
       "      <th>flavor_text</th>\n",
       "      <th>type_creature</th>\n",
       "      <th>type_artifact</th>\n",
       "      <th>type_enchantment</th>\n",
       "      <th>type_planeswalker</th>\n",
       "      <th>...</th>\n",
       "      <th>custom_cheatinto_play</th>\n",
       "      <th>custom_ritual</th>\n",
       "      <th>custom_no_maximum</th>\n",
       "      <th>custom_wheel</th>\n",
       "      <th>custom_extra_combat</th>\n",
       "      <th>custom_pillow_fort</th>\n",
       "      <th>custom_land_destruction</th>\n",
       "      <th>custom_win_game</th>\n",
       "      <th>custom_lose_game</th>\n",
       "      <th>custom_poison</th>\n",
       "    </tr>\n",
       "  </thead>\n",
       "  <tbody>\n",
       "    <tr>\n",
       "      <th>0</th>\n",
       "      <td>Fury Sliver</td>\n",
       "      <td>tsp</td>\n",
       "      <td>0.0</td>\n",
       "      <td>3</td>\n",
       "      <td>normal</td>\n",
       "      <td>1.0</td>\n",
       "      <td>1.0</td>\n",
       "      <td>0.0</td>\n",
       "      <td>0.0</td>\n",
       "      <td>0.0</td>\n",
       "      <td>...</td>\n",
       "      <td>0.0</td>\n",
       "      <td>0.0</td>\n",
       "      <td>0.0</td>\n",
       "      <td>0.0</td>\n",
       "      <td>0.0</td>\n",
       "      <td>0.0</td>\n",
       "      <td>0.0</td>\n",
       "      <td>0.0</td>\n",
       "      <td>0.0</td>\n",
       "      <td>0.0</td>\n",
       "    </tr>\n",
       "    <tr>\n",
       "      <th>1</th>\n",
       "      <td>Kor Outfitter</td>\n",
       "      <td>zen</td>\n",
       "      <td>0.0</td>\n",
       "      <td>2</td>\n",
       "      <td>normal</td>\n",
       "      <td>1.0</td>\n",
       "      <td>1.0</td>\n",
       "      <td>0.0</td>\n",
       "      <td>0.0</td>\n",
       "      <td>0.0</td>\n",
       "      <td>...</td>\n",
       "      <td>0.0</td>\n",
       "      <td>0.0</td>\n",
       "      <td>0.0</td>\n",
       "      <td>0.0</td>\n",
       "      <td>0.0</td>\n",
       "      <td>0.0</td>\n",
       "      <td>0.0</td>\n",
       "      <td>0.0</td>\n",
       "      <td>0.0</td>\n",
       "      <td>0.0</td>\n",
       "    </tr>\n",
       "    <tr>\n",
       "      <th>2</th>\n",
       "      <td>Siren Lookout</td>\n",
       "      <td>xln</td>\n",
       "      <td>0.0</td>\n",
       "      <td>1</td>\n",
       "      <td>normal</td>\n",
       "      <td>0.0</td>\n",
       "      <td>1.0</td>\n",
       "      <td>0.0</td>\n",
       "      <td>0.0</td>\n",
       "      <td>0.0</td>\n",
       "      <td>...</td>\n",
       "      <td>0.0</td>\n",
       "      <td>0.0</td>\n",
       "      <td>0.0</td>\n",
       "      <td>0.0</td>\n",
       "      <td>0.0</td>\n",
       "      <td>0.0</td>\n",
       "      <td>0.0</td>\n",
       "      <td>0.0</td>\n",
       "      <td>0.0</td>\n",
       "      <td>0.0</td>\n",
       "    </tr>\n",
       "    <tr>\n",
       "      <th>3</th>\n",
       "      <td>Venerable Knight</td>\n",
       "      <td>eld</td>\n",
       "      <td>0.0</td>\n",
       "      <td>1</td>\n",
       "      <td>normal</td>\n",
       "      <td>1.0</td>\n",
       "      <td>1.0</td>\n",
       "      <td>0.0</td>\n",
       "      <td>0.0</td>\n",
       "      <td>0.0</td>\n",
       "      <td>...</td>\n",
       "      <td>0.0</td>\n",
       "      <td>0.0</td>\n",
       "      <td>0.0</td>\n",
       "      <td>0.0</td>\n",
       "      <td>0.0</td>\n",
       "      <td>0.0</td>\n",
       "      <td>0.0</td>\n",
       "      <td>0.0</td>\n",
       "      <td>0.0</td>\n",
       "      <td>0.0</td>\n",
       "    </tr>\n",
       "    <tr>\n",
       "      <th>4</th>\n",
       "      <td>Wildcall</td>\n",
       "      <td>ugin</td>\n",
       "      <td>0.0</td>\n",
       "      <td>2</td>\n",
       "      <td>normal</td>\n",
       "      <td>1.0</td>\n",
       "      <td>0.0</td>\n",
       "      <td>0.0</td>\n",
       "      <td>0.0</td>\n",
       "      <td>0.0</td>\n",
       "      <td>...</td>\n",
       "      <td>0.0</td>\n",
       "      <td>0.0</td>\n",
       "      <td>0.0</td>\n",
       "      <td>0.0</td>\n",
       "      <td>0.0</td>\n",
       "      <td>0.0</td>\n",
       "      <td>0.0</td>\n",
       "      <td>0.0</td>\n",
       "      <td>0.0</td>\n",
       "      <td>0.0</td>\n",
       "    </tr>\n",
       "  </tbody>\n",
       "</table>\n",
       "<p>5 rows × 511 columns</p>\n",
       "</div>"
      ],
      "text/plain": [
       "               name   set  dfc  prints  layout  flavor_text  type_creature  \\\n",
       "0       Fury Sliver   tsp  0.0       3  normal          1.0            1.0   \n",
       "1     Kor Outfitter   zen  0.0       2  normal          1.0            1.0   \n",
       "2     Siren Lookout   xln  0.0       1  normal          0.0            1.0   \n",
       "3  Venerable Knight   eld  0.0       1  normal          1.0            1.0   \n",
       "4          Wildcall  ugin  0.0       2  normal          1.0            0.0   \n",
       "\n",
       "   type_artifact  type_enchantment  type_planeswalker  ...  \\\n",
       "0            0.0               0.0                0.0  ...   \n",
       "1            0.0               0.0                0.0  ...   \n",
       "2            0.0               0.0                0.0  ...   \n",
       "3            0.0               0.0                0.0  ...   \n",
       "4            0.0               0.0                0.0  ...   \n",
       "\n",
       "   custom_cheatinto_play  custom_ritual  custom_no_maximum  custom_wheel  \\\n",
       "0                    0.0            0.0                0.0           0.0   \n",
       "1                    0.0            0.0                0.0           0.0   \n",
       "2                    0.0            0.0                0.0           0.0   \n",
       "3                    0.0            0.0                0.0           0.0   \n",
       "4                    0.0            0.0                0.0           0.0   \n",
       "\n",
       "   custom_extra_combat  custom_pillow_fort  custom_land_destruction  \\\n",
       "0                  0.0                 0.0                      0.0   \n",
       "1                  0.0                 0.0                      0.0   \n",
       "2                  0.0                 0.0                      0.0   \n",
       "3                  0.0                 0.0                      0.0   \n",
       "4                  0.0                 0.0                      0.0   \n",
       "\n",
       "   custom_win_game  custom_lose_game  custom_poison  \n",
       "0              0.0               0.0            0.0  \n",
       "1              0.0               0.0            0.0  \n",
       "2              0.0               0.0            0.0  \n",
       "3              0.0               0.0            0.0  \n",
       "4              0.0               0.0            0.0  \n",
       "\n",
       "[5 rows x 511 columns]"
      ]
     },
     "execution_count": 8,
     "metadata": {},
     "output_type": "execute_result"
    }
   ],
   "source": [
    "# dataset preview\n",
    "df.head()"
   ]
  },
  {
   "cell_type": "code",
   "execution_count": 9,
   "id": "639dad6a",
   "metadata": {},
   "outputs": [],
   "source": [
    "file = open(import_folder + 'colorless', 'rb')\n",
    "model_colorless = pickle.load(file)\n",
    "file.close()"
   ]
  },
  {
   "cell_type": "code",
   "execution_count": 10,
   "id": "e7c02ff4",
   "metadata": {},
   "outputs": [],
   "source": [
    "file = open(import_folder + 'colors_B', 'rb')\n",
    "model_colors_B = pickle.load(file)\n",
    "file.close()"
   ]
  },
  {
   "cell_type": "code",
   "execution_count": 11,
   "id": "67cec690",
   "metadata": {},
   "outputs": [],
   "source": [
    "file = open(import_folder + 'colors_G', 'rb')\n",
    "model_colors_G = pickle.load(file)\n",
    "file.close()"
   ]
  },
  {
   "cell_type": "code",
   "execution_count": 12,
   "id": "43ed7f34",
   "metadata": {},
   "outputs": [],
   "source": [
    "file = open(import_folder + 'colors_R', 'rb')\n",
    "model_colors_R = pickle.load(file)\n",
    "file.close()"
   ]
  },
  {
   "cell_type": "code",
   "execution_count": 13,
   "id": "1a38bf17",
   "metadata": {},
   "outputs": [],
   "source": [
    "file = open(import_folder + 'colors_U', 'rb')\n",
    "model_colors_U = pickle.load(file)\n",
    "file.close()"
   ]
  },
  {
   "cell_type": "code",
   "execution_count": 14,
   "id": "f9e962a4",
   "metadata": {},
   "outputs": [],
   "source": [
    "file = open(import_folder + 'colors_W', 'rb')\n",
    "model_colors_W = pickle.load(file)\n",
    "file.close()"
   ]
  },
  {
   "cell_type": "markdown",
   "id": "efd4b020",
   "metadata": {},
   "source": [
    "# -------------------- FUNCTIONS --------------------"
   ]
  },
  {
   "cell_type": "code",
   "execution_count": 15,
   "id": "f4edbe5e",
   "metadata": {},
   "outputs": [],
   "source": [
    "# function to exclude unwanted columns\n",
    "def prepare_for_model(data, decision_class, numeric_only, columns_excludes):\n",
    "    y = data[decision_class]\n",
    "    x = data.loc[:, ~data.columns.isin(columns_to_exclude)]\n",
    "    \n",
    "    for exclude in columns_excludes:\n",
    "        x = x.loc[:, ~x.columns.str.contains(exclude)]\n",
    "        \n",
    "    if numeric_only == True:\n",
    "        x = x.select_dtypes(include=numerics)\n",
    "        \n",
    "    if decision_class not in x:\n",
    "        x[decision_class] = y\n",
    "    \n",
    "    return x"
   ]
  },
  {
   "cell_type": "markdown",
   "id": "bd0f3b2a",
   "metadata": {},
   "source": [
    "# -------------------- CARD PREDICTION --------------------"
   ]
  },
  {
   "cell_type": "code",
   "execution_count": 16,
   "id": "6a48bffa",
   "metadata": {},
   "outputs": [],
   "source": [
    "card_name = 'Damnation'"
   ]
  },
  {
   "cell_type": "code",
   "execution_count": 17,
   "id": "ff781f26",
   "metadata": {},
   "outputs": [
    {
     "data": {
      "text/html": [
       "<div>\n",
       "<style scoped>\n",
       "    .dataframe tbody tr th:only-of-type {\n",
       "        vertical-align: middle;\n",
       "    }\n",
       "\n",
       "    .dataframe tbody tr th {\n",
       "        vertical-align: top;\n",
       "    }\n",
       "\n",
       "    .dataframe thead th {\n",
       "        text-align: right;\n",
       "    }\n",
       "</style>\n",
       "<table border=\"1\" class=\"dataframe\">\n",
       "  <thead>\n",
       "    <tr style=\"text-align: right;\">\n",
       "      <th></th>\n",
       "      <th>name</th>\n",
       "      <th>set</th>\n",
       "      <th>dfc</th>\n",
       "      <th>prints</th>\n",
       "      <th>layout</th>\n",
       "      <th>flavor_text</th>\n",
       "      <th>type_creature</th>\n",
       "      <th>type_artifact</th>\n",
       "      <th>type_enchantment</th>\n",
       "      <th>type_planeswalker</th>\n",
       "      <th>...</th>\n",
       "      <th>custom_cheatinto_play</th>\n",
       "      <th>custom_ritual</th>\n",
       "      <th>custom_no_maximum</th>\n",
       "      <th>custom_wheel</th>\n",
       "      <th>custom_extra_combat</th>\n",
       "      <th>custom_pillow_fort</th>\n",
       "      <th>custom_land_destruction</th>\n",
       "      <th>custom_win_game</th>\n",
       "      <th>custom_lose_game</th>\n",
       "      <th>custom_poison</th>\n",
       "    </tr>\n",
       "  </thead>\n",
       "  <tbody>\n",
       "    <tr>\n",
       "      <th>31333</th>\n",
       "      <td>Damnation</td>\n",
       "      <td>2x2</td>\n",
       "      <td>0.0</td>\n",
       "      <td>7</td>\n",
       "      <td>normal</td>\n",
       "      <td>1.0</td>\n",
       "      <td>0.0</td>\n",
       "      <td>0.0</td>\n",
       "      <td>0.0</td>\n",
       "      <td>0.0</td>\n",
       "      <td>...</td>\n",
       "      <td>0.0</td>\n",
       "      <td>0.0</td>\n",
       "      <td>0.0</td>\n",
       "      <td>0.0</td>\n",
       "      <td>0.0</td>\n",
       "      <td>0.0</td>\n",
       "      <td>0.0</td>\n",
       "      <td>0.0</td>\n",
       "      <td>0.0</td>\n",
       "      <td>0.0</td>\n",
       "    </tr>\n",
       "  </tbody>\n",
       "</table>\n",
       "<p>1 rows × 511 columns</p>\n",
       "</div>"
      ],
      "text/plain": [
       "            name  set  dfc  prints  layout  flavor_text  type_creature  \\\n",
       "31333  Damnation  2x2  0.0       7  normal          1.0            0.0   \n",
       "\n",
       "       type_artifact  type_enchantment  type_planeswalker  ...  \\\n",
       "31333            0.0               0.0                0.0  ...   \n",
       "\n",
       "       custom_cheatinto_play  custom_ritual  custom_no_maximum  custom_wheel  \\\n",
       "31333                    0.0            0.0                0.0           0.0   \n",
       "\n",
       "       custom_extra_combat  custom_pillow_fort  custom_land_destruction  \\\n",
       "31333                  0.0                 0.0                      0.0   \n",
       "\n",
       "       custom_win_game  custom_lose_game  custom_poison  \n",
       "31333              0.0               0.0            0.0  \n",
       "\n",
       "[1 rows x 511 columns]"
      ]
     },
     "execution_count": 17,
     "metadata": {},
     "output_type": "execute_result"
    }
   ],
   "source": [
    "card_sample = df.loc[df['name'] == card_name].sample(n=1, random_state=0)\n",
    "card_sample"
   ]
  },
  {
   "cell_type": "code",
   "execution_count": 18,
   "id": "360cae39",
   "metadata": {},
   "outputs": [
    {
     "name": "stdout",
     "output_type": "stream",
     "text": [
      "Card predictions for:\n",
      "['Damnation']\n",
      "\n"
     ]
    }
   ],
   "source": [
    "print(\"Card predictions for:\")\n",
    "print(card_sample['name'].values.tolist())\n",
    "print('')\n",
    "\n",
    "df_results = pd.DataFrame(columns=['color', 'NO', 'YES'])\n",
    "\n",
    "x = prepare_for_model(card_sample, 'colorless', True, colors_excludes)\n",
    "prediction_colorless = model_colorless.predict_proba(x.loc[:, ~x.columns.isin(['colorless'])])\n",
    "row_colorless = {'color':'colorless', 'NO':prediction_colorless[0][0], 'YES':prediction_colorless[0][1]}\n",
    "df_results = df_results.append(row_colorless, ignore_index=True)\n",
    "\n",
    "x = prepare_for_model(card_sample, 'colors_B', True, colors_excludes)\n",
    "prediction_black = model_colors_B.predict_proba(x.loc[:, ~x.columns.isin(['colors_B'])])\n",
    "row_black = {'color':'black', 'NO':prediction_black[0][0], 'YES':prediction_black[0][1]}\n",
    "df_results = df_results.append(row_black, ignore_index=True)\n",
    "\n",
    "x = prepare_for_model(card_sample, 'colors_G', True, colors_excludes)\n",
    "prediction_green = model_colors_G.predict_proba(x.loc[:, ~x.columns.isin(['colors_G'])])\n",
    "row_green = {'color':'green', 'NO':prediction_green[0][0], 'YES':prediction_green[0][1]}\n",
    "df_results = df_results.append(row_green, ignore_index=True)\n",
    "\n",
    "x = prepare_for_model(card_sample, 'colors_R', True, colors_excludes)\n",
    "prediction_red = model_colors_R.predict_proba(x.loc[:, ~x.columns.isin(['colors_R'])])\n",
    "row_red = {'color':'red', 'NO':prediction_red[0][0], 'YES':prediction_red[0][1]}\n",
    "df_results = df_results.append(row_red, ignore_index=True)\n",
    "\n",
    "x = prepare_for_model(card_sample, 'colors_U', True, colors_excludes)\n",
    "prediction_blue = model_colors_U.predict_proba(x.loc[:, ~x.columns.isin(['colors_U'])])\n",
    "row_blue = {'color':'blue', 'NO':prediction_blue[0][0], 'YES':prediction_blue[0][1]}\n",
    "df_results = df_results.append(row_blue, ignore_index=True)\n",
    "\n",
    "x = prepare_for_model(card_sample, 'colors_W', True, colors_excludes)\n",
    "prediction_white = model_colors_W.predict_proba(x.loc[:, ~x.columns.isin(['colors_W'])])\n",
    "row_white = {'color':'white', 'NO':prediction_white[0][0], 'YES':prediction_white[0][1]}\n",
    "df_results = df_results.append(row_white, ignore_index=True)"
   ]
  },
  {
   "cell_type": "code",
   "execution_count": 19,
   "id": "387c5c6b",
   "metadata": {},
   "outputs": [
    {
     "data": {
      "text/html": [
       "<div>\n",
       "<style scoped>\n",
       "    .dataframe tbody tr th:only-of-type {\n",
       "        vertical-align: middle;\n",
       "    }\n",
       "\n",
       "    .dataframe tbody tr th {\n",
       "        vertical-align: top;\n",
       "    }\n",
       "\n",
       "    .dataframe thead th {\n",
       "        text-align: right;\n",
       "    }\n",
       "</style>\n",
       "<table border=\"1\" class=\"dataframe\">\n",
       "  <thead>\n",
       "    <tr style=\"text-align: right;\">\n",
       "      <th></th>\n",
       "      <th>color</th>\n",
       "      <th>NO</th>\n",
       "      <th>YES</th>\n",
       "    </tr>\n",
       "  </thead>\n",
       "  <tbody>\n",
       "    <tr>\n",
       "      <th>0</th>\n",
       "      <td>colorless</td>\n",
       "      <td>0.8000</td>\n",
       "      <td>0.2000</td>\n",
       "    </tr>\n",
       "    <tr>\n",
       "      <th>1</th>\n",
       "      <td>black</td>\n",
       "      <td>0.1200</td>\n",
       "      <td>0.8800</td>\n",
       "    </tr>\n",
       "    <tr>\n",
       "      <th>2</th>\n",
       "      <td>green</td>\n",
       "      <td>0.8750</td>\n",
       "      <td>0.1250</td>\n",
       "    </tr>\n",
       "    <tr>\n",
       "      <th>3</th>\n",
       "      <td>red</td>\n",
       "      <td>0.9100</td>\n",
       "      <td>0.0900</td>\n",
       "    </tr>\n",
       "    <tr>\n",
       "      <th>4</th>\n",
       "      <td>blue</td>\n",
       "      <td>0.9150</td>\n",
       "      <td>0.0850</td>\n",
       "    </tr>\n",
       "    <tr>\n",
       "      <th>5</th>\n",
       "      <td>white</td>\n",
       "      <td>0.4975</td>\n",
       "      <td>0.5025</td>\n",
       "    </tr>\n",
       "  </tbody>\n",
       "</table>\n",
       "</div>"
      ],
      "text/plain": [
       "       color      NO     YES\n",
       "0  colorless  0.8000  0.2000\n",
       "1      black  0.1200  0.8800\n",
       "2      green  0.8750  0.1250\n",
       "3        red  0.9100  0.0900\n",
       "4       blue  0.9150  0.0850\n",
       "5      white  0.4975  0.5025"
      ]
     },
     "execution_count": 19,
     "metadata": {},
     "output_type": "execute_result"
    }
   ],
   "source": [
    "df_results"
   ]
  },
  {
   "cell_type": "code",
   "execution_count": 20,
   "id": "b885d61f",
   "metadata": {},
   "outputs": [
    {
     "data": {
      "text/plain": [
       "<AxesSubplot:xlabel='color', ylabel='YES'>"
      ]
     },
     "execution_count": 20,
     "metadata": {},
     "output_type": "execute_result"
    },
    {
     "data": {
      "image/png": "[encoded data removed]",
      "text/plain": [
       "<Figure size 432x288 with 1 Axes>"
      ]
     },
     "metadata": {
      "needs_background": "light"
     },
     "output_type": "display_data"
    }
   ],
   "source": [
    "sea.barplot(data=df_results, x=\"color\", y=\"YES\")"
   ]
  }
 ],
 "metadata": {
  "kernelspec": {
   "display_name": "Python 3 (ipykernel)",
   "language": "python",
   "name": "python3"
  },
  "language_info": {
   "codemirror_mode": {
    "name": "ipython",
    "version": 3
   },
   "file_extension": ".py",
   "mimetype": "text/x-python",
   "name": "python",
   "nbconvert_exporter": "python",
   "pygments_lexer": "ipython3",
   "version": "3.9.7"
  }
 },
 "nbformat": 4,
 "nbformat_minor": 5
}
